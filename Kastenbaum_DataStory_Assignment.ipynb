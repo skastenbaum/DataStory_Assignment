{
 "cells": [
  {
   "cell_type": "code",
   "execution_count": 1,
   "id": "28067785-56be-4b08-91c7-2945e5684a8c",
   "metadata": {},
   "outputs": [],
   "source": [
    "import pandas as pd"
   ]
  },
  {
   "cell_type": "code",
   "execution_count": 3,
   "id": "2675c2c7-5305-4d68-a880-d48a2eb301d3",
   "metadata": {},
   "outputs": [
    {
     "data": {
      "text/html": [
       "<div>\n",
       "<style scoped>\n",
       "    .dataframe tbody tr th:only-of-type {\n",
       "        vertical-align: middle;\n",
       "    }\n",
       "\n",
       "    .dataframe tbody tr th {\n",
       "        vertical-align: top;\n",
       "    }\n",
       "\n",
       "    .dataframe thead th {\n",
       "        text-align: right;\n",
       "    }\n",
       "</style>\n",
       "<table border=\"1\" class=\"dataframe\">\n",
       "  <thead>\n",
       "    <tr style=\"text-align: right;\">\n",
       "      <th></th>\n",
       "      <th>BOROUGH</th>\n",
       "      <th>Job Type</th>\n",
       "      <th>Residential</th>\n",
       "      <th>Permit Status</th>\n",
       "      <th>Issuance Date</th>\n",
       "      <th>NTA_NAME</th>\n",
       "    </tr>\n",
       "  </thead>\n",
       "  <tbody>\n",
       "    <tr>\n",
       "      <th>0</th>\n",
       "      <td>BROOKLYN</td>\n",
       "      <td>NB</td>\n",
       "      <td>YES</td>\n",
       "      <td>ISSUED</td>\n",
       "      <td>05/09/2025</td>\n",
       "      <td>East New York (Pennsylvania Ave)</td>\n",
       "    </tr>\n",
       "    <tr>\n",
       "      <th>1</th>\n",
       "      <td>BROOKLYN</td>\n",
       "      <td>NB</td>\n",
       "      <td>YES</td>\n",
       "      <td>ISSUED</td>\n",
       "      <td>05/09/2025</td>\n",
       "      <td>East New York (Pennsylvania Ave)</td>\n",
       "    </tr>\n",
       "    <tr>\n",
       "      <th>2</th>\n",
       "      <td>QUEENS</td>\n",
       "      <td>NB</td>\n",
       "      <td>YES</td>\n",
       "      <td>ISSUED</td>\n",
       "      <td>05/09/2025</td>\n",
       "      <td>Douglas Manor-Douglaston-Little Neck</td>\n",
       "    </tr>\n",
       "    <tr>\n",
       "      <th>3</th>\n",
       "      <td>BROOKLYN</td>\n",
       "      <td>NB</td>\n",
       "      <td>YES</td>\n",
       "      <td>ISSUED</td>\n",
       "      <td>05/09/2025</td>\n",
       "      <td>Park Slope-Gowanus</td>\n",
       "    </tr>\n",
       "    <tr>\n",
       "      <th>4</th>\n",
       "      <td>BROOKLYN</td>\n",
       "      <td>NB</td>\n",
       "      <td>YES</td>\n",
       "      <td>ISSUED</td>\n",
       "      <td>05/09/2025</td>\n",
       "      <td>Bath Beach</td>\n",
       "    </tr>\n",
       "  </tbody>\n",
       "</table>\n",
       "</div>"
      ],
      "text/plain": [
       "    BOROUGH Job Type Residential Permit Status Issuance Date  \\\n",
       "0  BROOKLYN       NB         YES        ISSUED    05/09/2025   \n",
       "1  BROOKLYN       NB         YES        ISSUED    05/09/2025   \n",
       "2    QUEENS       NB         YES        ISSUED    05/09/2025   \n",
       "3  BROOKLYN       NB         YES        ISSUED    05/09/2025   \n",
       "4  BROOKLYN       NB         YES        ISSUED    05/09/2025   \n",
       "\n",
       "                               NTA_NAME  \n",
       "0      East New York (Pennsylvania Ave)  \n",
       "1      East New York (Pennsylvania Ave)  \n",
       "2  Douglas Manor-Douglaston-Little Neck  \n",
       "3                    Park Slope-Gowanus  \n",
       "4                            Bath Beach  "
      ]
     },
     "execution_count": 3,
     "metadata": {},
     "output_type": "execute_result"
    }
   ],
   "source": [
    "df = pd.read_csv(\"https://raw.githubusercontent.com/skastenbaum/DataStory_Assignment/refs/heads/main/NewBuildingPermits_QueriedDOBData%20-%20DOBPermitsData.csv\")\n",
    "df.head()"
   ]
  },
  {
   "cell_type": "code",
   "execution_count": 21,
   "id": "f4100711-736f-4c7a-bb02-f6e2ec63cad3",
   "metadata": {},
   "outputs": [
    {
     "name": "stdout",
     "output_type": "stream",
     "text": [
      "<class 'pandas.core.frame.DataFrame'>\n",
      "RangeIndex: 7896 entries, 0 to 7895\n",
      "Data columns (total 8 columns):\n",
      " #   Column         Non-Null Count  Dtype         \n",
      "---  ------         --------------  -----         \n",
      " 0   BOROUGH        7895 non-null   object        \n",
      " 1   Job Type       7892 non-null   object        \n",
      " 2   Residential    7892 non-null   object        \n",
      " 3   Permit Status  7892 non-null   object        \n",
      " 4   Issuance Date  7892 non-null   datetime64[ns]\n",
      " 5   NTA_NAME       7742 non-null   object        \n",
      " 6   Year           7892 non-null   float64       \n",
      " 7   quarter        7892 non-null   float64       \n",
      "dtypes: datetime64[ns](1), float64(2), object(5)\n",
      "memory usage: 493.6+ KB\n"
     ]
    }
   ],
   "source": [
    "## I re-ran this cell after converting the Issuance Date column from an object to datetime\n",
    "df.info()"
   ]
  },
  {
   "cell_type": "code",
   "execution_count": 7,
   "id": "7f20818a-21a3-4816-8041-be60cd9a6edc",
   "metadata": {},
   "outputs": [
    {
     "data": {
      "text/plain": [
       "BOROUGH                  object\n",
       "Job Type                 object\n",
       "Residential              object\n",
       "Permit Status            object\n",
       "Issuance Date    datetime64[ns]\n",
       "NTA_NAME                 object\n",
       "dtype: object"
      ]
     },
     "execution_count": 7,
     "metadata": {},
     "output_type": "execute_result"
    }
   ],
   "source": [
    "I re-ran this cell after converting the Issuance Date column from an object to datetime\n",
    "df.dtypes"
   ]
  },
  {
   "cell_type": "code",
   "execution_count": 6,
   "id": "d48087ae-6d83-44c9-8c0e-cae1460d44eb",
   "metadata": {},
   "outputs": [],
   "source": [
    "## converting date column to datetime\n",
    "df['Issuance Date'] = pd.to_datetime(df['Issuance Date'])"
   ]
  },
  {
   "cell_type": "code",
   "execution_count": 8,
   "id": "2244b588-6868-4e28-ac92-1d6c375b9a26",
   "metadata": {},
   "outputs": [],
   "source": [
    "## Create Year Column\n",
    "df['Year'] = df[\"Issuance Date\"].dt.year"
   ]
  },
  {
   "cell_type": "code",
   "execution_count": 12,
   "id": "aa791cbb-01b0-4095-b558-acb65ea670f3",
   "metadata": {},
   "outputs": [
    {
     "data": {
      "text/html": [
       "<div>\n",
       "<style scoped>\n",
       "    .dataframe tbody tr th:only-of-type {\n",
       "        vertical-align: middle;\n",
       "    }\n",
       "\n",
       "    .dataframe tbody tr th {\n",
       "        vertical-align: top;\n",
       "    }\n",
       "\n",
       "    .dataframe thead th {\n",
       "        text-align: right;\n",
       "    }\n",
       "</style>\n",
       "<table border=\"1\" class=\"dataframe\">\n",
       "  <thead>\n",
       "    <tr style=\"text-align: right;\">\n",
       "      <th></th>\n",
       "      <th>BOROUGH</th>\n",
       "      <th>Job Type</th>\n",
       "      <th>Residential</th>\n",
       "      <th>Permit Status</th>\n",
       "      <th>Issuance Date</th>\n",
       "      <th>NTA_NAME</th>\n",
       "      <th>Year</th>\n",
       "      <th>quarter</th>\n",
       "    </tr>\n",
       "  </thead>\n",
       "  <tbody>\n",
       "    <tr>\n",
       "      <th>0</th>\n",
       "      <td>BROOKLYN</td>\n",
       "      <td>NB</td>\n",
       "      <td>YES</td>\n",
       "      <td>ISSUED</td>\n",
       "      <td>2025-05-09</td>\n",
       "      <td>East New York (Pennsylvania Ave)</td>\n",
       "      <td>2025.0</td>\n",
       "      <td>2.0</td>\n",
       "    </tr>\n",
       "    <tr>\n",
       "      <th>1</th>\n",
       "      <td>BROOKLYN</td>\n",
       "      <td>NB</td>\n",
       "      <td>YES</td>\n",
       "      <td>ISSUED</td>\n",
       "      <td>2025-05-09</td>\n",
       "      <td>East New York (Pennsylvania Ave)</td>\n",
       "      <td>2025.0</td>\n",
       "      <td>2.0</td>\n",
       "    </tr>\n",
       "    <tr>\n",
       "      <th>2</th>\n",
       "      <td>QUEENS</td>\n",
       "      <td>NB</td>\n",
       "      <td>YES</td>\n",
       "      <td>ISSUED</td>\n",
       "      <td>2025-05-09</td>\n",
       "      <td>Douglas Manor-Douglaston-Little Neck</td>\n",
       "      <td>2025.0</td>\n",
       "      <td>2.0</td>\n",
       "    </tr>\n",
       "    <tr>\n",
       "      <th>3</th>\n",
       "      <td>BROOKLYN</td>\n",
       "      <td>NB</td>\n",
       "      <td>YES</td>\n",
       "      <td>ISSUED</td>\n",
       "      <td>2025-05-09</td>\n",
       "      <td>Park Slope-Gowanus</td>\n",
       "      <td>2025.0</td>\n",
       "      <td>2.0</td>\n",
       "    </tr>\n",
       "    <tr>\n",
       "      <th>4</th>\n",
       "      <td>BROOKLYN</td>\n",
       "      <td>NB</td>\n",
       "      <td>YES</td>\n",
       "      <td>ISSUED</td>\n",
       "      <td>2025-05-09</td>\n",
       "      <td>Bath Beach</td>\n",
       "      <td>2025.0</td>\n",
       "      <td>2.0</td>\n",
       "    </tr>\n",
       "  </tbody>\n",
       "</table>\n",
       "</div>"
      ],
      "text/plain": [
       "    BOROUGH Job Type Residential Permit Status Issuance Date  \\\n",
       "0  BROOKLYN       NB         YES        ISSUED    2025-05-09   \n",
       "1  BROOKLYN       NB         YES        ISSUED    2025-05-09   \n",
       "2    QUEENS       NB         YES        ISSUED    2025-05-09   \n",
       "3  BROOKLYN       NB         YES        ISSUED    2025-05-09   \n",
       "4  BROOKLYN       NB         YES        ISSUED    2025-05-09   \n",
       "\n",
       "                               NTA_NAME    Year  quarter  \n",
       "0      East New York (Pennsylvania Ave)  2025.0      2.0  \n",
       "1      East New York (Pennsylvania Ave)  2025.0      2.0  \n",
       "2  Douglas Manor-Douglaston-Little Neck  2025.0      2.0  \n",
       "3                    Park Slope-Gowanus  2025.0      2.0  \n",
       "4                            Bath Beach  2025.0      2.0  "
      ]
     },
     "execution_count": 12,
     "metadata": {},
     "output_type": "execute_result"
    }
   ],
   "source": [
    "df.head()"
   ]
  },
  {
   "cell_type": "code",
   "execution_count": 11,
   "id": "2374f866-08cd-4928-b5cf-8b86d105b218",
   "metadata": {},
   "outputs": [],
   "source": [
    "## make new column for quarters\n",
    "df['quarter'] = df['Issuance Date'].dt.quarter"
   ]
  },
  {
   "cell_type": "code",
   "execution_count": 15,
   "id": "167ecd8e-2d34-4dfc-bac5-bd9fcaa7c128",
   "metadata": {},
   "outputs": [],
   "source": [
    "## Filter to Q1\n",
    "q1_permits = df.query('quarter == 1.0')"
   ]
  },
  {
   "cell_type": "code",
   "execution_count": 16,
   "id": "c82b9cd2-cf5d-4160-aa58-760277cd1cdc",
   "metadata": {},
   "outputs": [
    {
     "data": {
      "text/html": [
       "<div>\n",
       "<style scoped>\n",
       "    .dataframe tbody tr th:only-of-type {\n",
       "        vertical-align: middle;\n",
       "    }\n",
       "\n",
       "    .dataframe tbody tr th {\n",
       "        vertical-align: top;\n",
       "    }\n",
       "\n",
       "    .dataframe thead th {\n",
       "        text-align: right;\n",
       "    }\n",
       "</style>\n",
       "<table border=\"1\" class=\"dataframe\">\n",
       "  <thead>\n",
       "    <tr style=\"text-align: right;\">\n",
       "      <th></th>\n",
       "      <th>BOROUGH</th>\n",
       "      <th>Job Type</th>\n",
       "      <th>Residential</th>\n",
       "      <th>Permit Status</th>\n",
       "      <th>Issuance Date</th>\n",
       "      <th>NTA_NAME</th>\n",
       "      <th>Year</th>\n",
       "      <th>quarter</th>\n",
       "    </tr>\n",
       "  </thead>\n",
       "  <tbody>\n",
       "    <tr>\n",
       "      <th>197</th>\n",
       "      <td>BROOKLYN</td>\n",
       "      <td>NB</td>\n",
       "      <td>YES</td>\n",
       "      <td>ISSUED</td>\n",
       "      <td>2025-03-31</td>\n",
       "      <td>North Side-South Side</td>\n",
       "      <td>2025.0</td>\n",
       "      <td>1.0</td>\n",
       "    </tr>\n",
       "    <tr>\n",
       "      <th>198</th>\n",
       "      <td>BROOKLYN</td>\n",
       "      <td>NB</td>\n",
       "      <td>YES</td>\n",
       "      <td>ISSUED</td>\n",
       "      <td>2025-03-31</td>\n",
       "      <td>Sheepshead Bay-Gerritsen Beach-Manhattan Beach</td>\n",
       "      <td>2025.0</td>\n",
       "      <td>1.0</td>\n",
       "    </tr>\n",
       "    <tr>\n",
       "      <th>199</th>\n",
       "      <td>BROOKLYN</td>\n",
       "      <td>NB</td>\n",
       "      <td>YES</td>\n",
       "      <td>ISSUED</td>\n",
       "      <td>2025-03-31</td>\n",
       "      <td>Bedford</td>\n",
       "      <td>2025.0</td>\n",
       "      <td>1.0</td>\n",
       "    </tr>\n",
       "    <tr>\n",
       "      <th>200</th>\n",
       "      <td>BROOKLYN</td>\n",
       "      <td>NB</td>\n",
       "      <td>YES</td>\n",
       "      <td>ISSUED</td>\n",
       "      <td>2025-03-31</td>\n",
       "      <td>Bedford</td>\n",
       "      <td>2025.0</td>\n",
       "      <td>1.0</td>\n",
       "    </tr>\n",
       "    <tr>\n",
       "      <th>201</th>\n",
       "      <td>QUEENS</td>\n",
       "      <td>NB</td>\n",
       "      <td>YES</td>\n",
       "      <td>ISSUED</td>\n",
       "      <td>2025-03-31</td>\n",
       "      <td>Elmhurst-Maspeth</td>\n",
       "      <td>2025.0</td>\n",
       "      <td>1.0</td>\n",
       "    </tr>\n",
       "  </tbody>\n",
       "</table>\n",
       "</div>"
      ],
      "text/plain": [
       "      BOROUGH Job Type Residential Permit Status Issuance Date  \\\n",
       "197  BROOKLYN       NB         YES        ISSUED    2025-03-31   \n",
       "198  BROOKLYN       NB         YES        ISSUED    2025-03-31   \n",
       "199  BROOKLYN       NB         YES        ISSUED    2025-03-31   \n",
       "200  BROOKLYN       NB         YES        ISSUED    2025-03-31   \n",
       "201    QUEENS       NB         YES        ISSUED    2025-03-31   \n",
       "\n",
       "                                           NTA_NAME    Year  quarter  \n",
       "197                           North Side-South Side  2025.0      1.0  \n",
       "198  Sheepshead Bay-Gerritsen Beach-Manhattan Beach  2025.0      1.0  \n",
       "199                                         Bedford  2025.0      1.0  \n",
       "200                                         Bedford  2025.0      1.0  \n",
       "201                                Elmhurst-Maspeth  2025.0      1.0  "
      ]
     },
     "execution_count": 16,
     "metadata": {},
     "output_type": "execute_result"
    }
   ],
   "source": [
    "q1_permits.head()"
   ]
  },
  {
   "cell_type": "code",
   "execution_count": 19,
   "id": "892ad905-80e8-47a9-99ed-dbf9658489ec",
   "metadata": {},
   "outputs": [
    {
     "data": {
      "text/plain": [
       "Year\n",
       "2023.0    1292\n",
       "2024.0     767\n",
       "2025.0     581\n",
       "Name: count, dtype: int64"
      ]
     },
     "execution_count": 19,
     "metadata": {},
     "output_type": "execute_result"
    }
   ],
   "source": [
    "## count 1st quarter permits by year\n",
    "q1_permits['Year'].value_counts()"
   ]
  },
  {
   "cell_type": "code",
   "execution_count": null,
   "id": "251a4370-e9ea-4363-8f70-af7b366dcef5",
   "metadata": {},
   "outputs": [],
   "source": []
  }
 ],
 "metadata": {
  "kernelspec": {
   "display_name": "Python 3 (ipykernel)",
   "language": "python",
   "name": "python3"
  },
  "language_info": {
   "codemirror_mode": {
    "name": "ipython",
    "version": 3
   },
   "file_extension": ".py",
   "mimetype": "text/x-python",
   "name": "python",
   "nbconvert_exporter": "python",
   "pygments_lexer": "ipython3",
   "version": "3.12.7"
  }
 },
 "nbformat": 4,
 "nbformat_minor": 5
}

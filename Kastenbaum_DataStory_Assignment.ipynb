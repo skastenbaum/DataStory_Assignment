{
 "cells": [
  {
   "cell_type": "code",
   "execution_count": 1,
   "id": "28067785-56be-4b08-91c7-2945e5684a8c",
   "metadata": {},
   "outputs": [],
   "source": [
    "import pandas as pd"
   ]
  },
  {
   "cell_type": "code",
   "execution_count": 2,
   "id": "2675c2c7-5305-4d68-a880-d48a2eb301d3",
   "metadata": {},
   "outputs": [
    {
     "data": {
      "text/html": [
       "<div>\n",
       "<style scoped>\n",
       "    .dataframe tbody tr th:only-of-type {\n",
       "        vertical-align: middle;\n",
       "    }\n",
       "\n",
       "    .dataframe tbody tr th {\n",
       "        vertical-align: top;\n",
       "    }\n",
       "\n",
       "    .dataframe thead th {\n",
       "        text-align: right;\n",
       "    }\n",
       "</style>\n",
       "<table border=\"1\" class=\"dataframe\">\n",
       "  <thead>\n",
       "    <tr style=\"text-align: right;\">\n",
       "      <th></th>\n",
       "      <th>BOROUGH</th>\n",
       "      <th>Job Type</th>\n",
       "      <th>Residential</th>\n",
       "      <th>Permit Status</th>\n",
       "      <th>Issuance Date</th>\n",
       "      <th>NTA_NAME</th>\n",
       "    </tr>\n",
       "  </thead>\n",
       "  <tbody>\n",
       "    <tr>\n",
       "      <th>0</th>\n",
       "      <td>BROOKLYN</td>\n",
       "      <td>NB</td>\n",
       "      <td>YES</td>\n",
       "      <td>ISSUED</td>\n",
       "      <td>05/09/2025</td>\n",
       "      <td>East New York (Pennsylvania Ave)</td>\n",
       "    </tr>\n",
       "    <tr>\n",
       "      <th>1</th>\n",
       "      <td>BROOKLYN</td>\n",
       "      <td>NB</td>\n",
       "      <td>YES</td>\n",
       "      <td>ISSUED</td>\n",
       "      <td>05/09/2025</td>\n",
       "      <td>East New York (Pennsylvania Ave)</td>\n",
       "    </tr>\n",
       "    <tr>\n",
       "      <th>2</th>\n",
       "      <td>QUEENS</td>\n",
       "      <td>NB</td>\n",
       "      <td>YES</td>\n",
       "      <td>ISSUED</td>\n",
       "      <td>05/09/2025</td>\n",
       "      <td>Douglas Manor-Douglaston-Little Neck</td>\n",
       "    </tr>\n",
       "    <tr>\n",
       "      <th>3</th>\n",
       "      <td>BROOKLYN</td>\n",
       "      <td>NB</td>\n",
       "      <td>YES</td>\n",
       "      <td>ISSUED</td>\n",
       "      <td>05/09/2025</td>\n",
       "      <td>Park Slope-Gowanus</td>\n",
       "    </tr>\n",
       "    <tr>\n",
       "      <th>4</th>\n",
       "      <td>BROOKLYN</td>\n",
       "      <td>NB</td>\n",
       "      <td>YES</td>\n",
       "      <td>ISSUED</td>\n",
       "      <td>05/09/2025</td>\n",
       "      <td>Bath Beach</td>\n",
       "    </tr>\n",
       "    <tr>\n",
       "      <th>5</th>\n",
       "      <td>BRONX</td>\n",
       "      <td>NB</td>\n",
       "      <td>YES</td>\n",
       "      <td>ISSUED</td>\n",
       "      <td>05/09/2025</td>\n",
       "      <td>Norwood</td>\n",
       "    </tr>\n",
       "    <tr>\n",
       "      <th>6</th>\n",
       "      <td>QUEENS</td>\n",
       "      <td>NB</td>\n",
       "      <td>YES</td>\n",
       "      <td>ISSUED</td>\n",
       "      <td>05/08/2025</td>\n",
       "      <td>NaN</td>\n",
       "    </tr>\n",
       "    <tr>\n",
       "      <th>7</th>\n",
       "      <td>BROOKLYN</td>\n",
       "      <td>NB</td>\n",
       "      <td>YES</td>\n",
       "      <td>ISSUED</td>\n",
       "      <td>05/08/2025</td>\n",
       "      <td>East Flatbush-Farragut</td>\n",
       "    </tr>\n",
       "    <tr>\n",
       "      <th>8</th>\n",
       "      <td>BRONX</td>\n",
       "      <td>NB</td>\n",
       "      <td>YES</td>\n",
       "      <td>ISSUED</td>\n",
       "      <td>05/08/2025</td>\n",
       "      <td>Bronxdale</td>\n",
       "    </tr>\n",
       "    <tr>\n",
       "      <th>9</th>\n",
       "      <td>BROOKLYN</td>\n",
       "      <td>NB</td>\n",
       "      <td>YES</td>\n",
       "      <td>ISSUED</td>\n",
       "      <td>05/08/2025</td>\n",
       "      <td>East Williamsburg</td>\n",
       "    </tr>\n",
       "  </tbody>\n",
       "</table>\n",
       "</div>"
      ],
      "text/plain": [
       "    BOROUGH Job Type Residential Permit Status Issuance Date  \\\n",
       "0  BROOKLYN       NB         YES        ISSUED    05/09/2025   \n",
       "1  BROOKLYN       NB         YES        ISSUED    05/09/2025   \n",
       "2    QUEENS       NB         YES        ISSUED    05/09/2025   \n",
       "3  BROOKLYN       NB         YES        ISSUED    05/09/2025   \n",
       "4  BROOKLYN       NB         YES        ISSUED    05/09/2025   \n",
       "5     BRONX       NB         YES        ISSUED    05/09/2025   \n",
       "6    QUEENS       NB         YES        ISSUED    05/08/2025   \n",
       "7  BROOKLYN       NB         YES        ISSUED    05/08/2025   \n",
       "8     BRONX       NB         YES        ISSUED    05/08/2025   \n",
       "9  BROOKLYN       NB         YES        ISSUED    05/08/2025   \n",
       "\n",
       "                               NTA_NAME  \n",
       "0      East New York (Pennsylvania Ave)  \n",
       "1      East New York (Pennsylvania Ave)  \n",
       "2  Douglas Manor-Douglaston-Little Neck  \n",
       "3                    Park Slope-Gowanus  \n",
       "4                            Bath Beach  \n",
       "5                               Norwood  \n",
       "6                                   NaN  \n",
       "7                East Flatbush-Farragut  \n",
       "8                             Bronxdale  \n",
       "9                     East Williamsburg  "
      ]
     },
     "execution_count": 2,
     "metadata": {},
     "output_type": "execute_result"
    }
   ],
   "source": [
    "## Import my data set\n",
    "\n",
    "df = pd.read_csv(\"https://raw.githubusercontent.com/skastenbaum/DataStory_Assignment/refs/heads/main/NewBuildingPermits_QueriedDOBData%20-%20DOBPermitsData.csv\")\n",
    "df.head(10)"
   ]
  },
  {
   "cell_type": "code",
   "execution_count": 3,
   "id": "f4100711-736f-4c7a-bb02-f6e2ec63cad3",
   "metadata": {},
   "outputs": [
    {
     "name": "stdout",
     "output_type": "stream",
     "text": [
      "<class 'pandas.core.frame.DataFrame'>\n",
      "RangeIndex: 7896 entries, 0 to 7895\n",
      "Data columns (total 6 columns):\n",
      " #   Column         Non-Null Count  Dtype \n",
      "---  ------         --------------  ----- \n",
      " 0   BOROUGH        7895 non-null   object\n",
      " 1   Job Type       7892 non-null   object\n",
      " 2   Residential    7892 non-null   object\n",
      " 3   Permit Status  7892 non-null   object\n",
      " 4   Issuance Date  7892 non-null   object\n",
      " 5   NTA_NAME       7742 non-null   object\n",
      "dtypes: object(6)\n",
      "memory usage: 370.3+ KB\n"
     ]
    }
   ],
   "source": [
    "## I re-ran this cell after converting the Issuance Date column from an object to datetime\n",
    "df.info()"
   ]
  },
  {
   "cell_type": "code",
   "execution_count": 4,
   "id": "7f20818a-21a3-4816-8041-be60cd9a6edc",
   "metadata": {},
   "outputs": [
    {
     "data": {
      "text/plain": [
       "BOROUGH          object\n",
       "Job Type         object\n",
       "Residential      object\n",
       "Permit Status    object\n",
       "Issuance Date    object\n",
       "NTA_NAME         object\n",
       "dtype: object"
      ]
     },
     "execution_count": 4,
     "metadata": {},
     "output_type": "execute_result"
    }
   ],
   "source": [
    "## I re-ran this cell after converting the Issuance Date column from an object to datetime\n",
    "df.dtypes"
   ]
  },
  {
   "cell_type": "code",
   "execution_count": 5,
   "id": "d48087ae-6d83-44c9-8c0e-cae1460d44eb",
   "metadata": {},
   "outputs": [],
   "source": [
    "## converting date column to datetime\n",
    "df['Issuance Date'] = pd.to_datetime(df['Issuance Date'])"
   ]
  },
  {
   "cell_type": "code",
   "execution_count": 6,
   "id": "2244b588-6868-4e28-ac92-1d6c375b9a26",
   "metadata": {},
   "outputs": [],
   "source": [
    "## Create Year Column\n",
    "df['Year'] = df[\"Issuance Date\"].dt.year"
   ]
  },
  {
   "cell_type": "code",
   "execution_count": 7,
   "id": "aa791cbb-01b0-4095-b558-acb65ea670f3",
   "metadata": {},
   "outputs": [
    {
     "data": {
      "text/html": [
       "<div>\n",
       "<style scoped>\n",
       "    .dataframe tbody tr th:only-of-type {\n",
       "        vertical-align: middle;\n",
       "    }\n",
       "\n",
       "    .dataframe tbody tr th {\n",
       "        vertical-align: top;\n",
       "    }\n",
       "\n",
       "    .dataframe thead th {\n",
       "        text-align: right;\n",
       "    }\n",
       "</style>\n",
       "<table border=\"1\" class=\"dataframe\">\n",
       "  <thead>\n",
       "    <tr style=\"text-align: right;\">\n",
       "      <th></th>\n",
       "      <th>BOROUGH</th>\n",
       "      <th>Job Type</th>\n",
       "      <th>Residential</th>\n",
       "      <th>Permit Status</th>\n",
       "      <th>Issuance Date</th>\n",
       "      <th>NTA_NAME</th>\n",
       "      <th>Year</th>\n",
       "    </tr>\n",
       "  </thead>\n",
       "  <tbody>\n",
       "    <tr>\n",
       "      <th>0</th>\n",
       "      <td>BROOKLYN</td>\n",
       "      <td>NB</td>\n",
       "      <td>YES</td>\n",
       "      <td>ISSUED</td>\n",
       "      <td>2025-05-09</td>\n",
       "      <td>East New York (Pennsylvania Ave)</td>\n",
       "      <td>2025.0</td>\n",
       "    </tr>\n",
       "    <tr>\n",
       "      <th>1</th>\n",
       "      <td>BROOKLYN</td>\n",
       "      <td>NB</td>\n",
       "      <td>YES</td>\n",
       "      <td>ISSUED</td>\n",
       "      <td>2025-05-09</td>\n",
       "      <td>East New York (Pennsylvania Ave)</td>\n",
       "      <td>2025.0</td>\n",
       "    </tr>\n",
       "    <tr>\n",
       "      <th>2</th>\n",
       "      <td>QUEENS</td>\n",
       "      <td>NB</td>\n",
       "      <td>YES</td>\n",
       "      <td>ISSUED</td>\n",
       "      <td>2025-05-09</td>\n",
       "      <td>Douglas Manor-Douglaston-Little Neck</td>\n",
       "      <td>2025.0</td>\n",
       "    </tr>\n",
       "    <tr>\n",
       "      <th>3</th>\n",
       "      <td>BROOKLYN</td>\n",
       "      <td>NB</td>\n",
       "      <td>YES</td>\n",
       "      <td>ISSUED</td>\n",
       "      <td>2025-05-09</td>\n",
       "      <td>Park Slope-Gowanus</td>\n",
       "      <td>2025.0</td>\n",
       "    </tr>\n",
       "    <tr>\n",
       "      <th>4</th>\n",
       "      <td>BROOKLYN</td>\n",
       "      <td>NB</td>\n",
       "      <td>YES</td>\n",
       "      <td>ISSUED</td>\n",
       "      <td>2025-05-09</td>\n",
       "      <td>Bath Beach</td>\n",
       "      <td>2025.0</td>\n",
       "    </tr>\n",
       "  </tbody>\n",
       "</table>\n",
       "</div>"
      ],
      "text/plain": [
       "    BOROUGH Job Type Residential Permit Status Issuance Date  \\\n",
       "0  BROOKLYN       NB         YES        ISSUED    2025-05-09   \n",
       "1  BROOKLYN       NB         YES        ISSUED    2025-05-09   \n",
       "2    QUEENS       NB         YES        ISSUED    2025-05-09   \n",
       "3  BROOKLYN       NB         YES        ISSUED    2025-05-09   \n",
       "4  BROOKLYN       NB         YES        ISSUED    2025-05-09   \n",
       "\n",
       "                               NTA_NAME    Year  \n",
       "0      East New York (Pennsylvania Ave)  2025.0  \n",
       "1      East New York (Pennsylvania Ave)  2025.0  \n",
       "2  Douglas Manor-Douglaston-Little Neck  2025.0  \n",
       "3                    Park Slope-Gowanus  2025.0  \n",
       "4                            Bath Beach  2025.0  "
      ]
     },
     "execution_count": 7,
     "metadata": {},
     "output_type": "execute_result"
    }
   ],
   "source": [
    "df.head()"
   ]
  },
  {
   "cell_type": "code",
   "execution_count": 8,
   "id": "2374f866-08cd-4928-b5cf-8b86d105b218",
   "metadata": {},
   "outputs": [],
   "source": [
    "## make new column for quarters\n",
    "df['quarter'] = df['Issuance Date'].dt.quarter"
   ]
  },
  {
   "cell_type": "code",
   "execution_count": 9,
   "id": "167ecd8e-2d34-4dfc-bac5-bd9fcaa7c128",
   "metadata": {},
   "outputs": [],
   "source": [
    "## Filter to Q1\n",
    "q1_permits = df.query('quarter == 1.0')"
   ]
  },
  {
   "cell_type": "code",
   "execution_count": 10,
   "id": "c82b9cd2-cf5d-4160-aa58-760277cd1cdc",
   "metadata": {},
   "outputs": [
    {
     "data": {
      "text/html": [
       "<div>\n",
       "<style scoped>\n",
       "    .dataframe tbody tr th:only-of-type {\n",
       "        vertical-align: middle;\n",
       "    }\n",
       "\n",
       "    .dataframe tbody tr th {\n",
       "        vertical-align: top;\n",
       "    }\n",
       "\n",
       "    .dataframe thead th {\n",
       "        text-align: right;\n",
       "    }\n",
       "</style>\n",
       "<table border=\"1\" class=\"dataframe\">\n",
       "  <thead>\n",
       "    <tr style=\"text-align: right;\">\n",
       "      <th></th>\n",
       "      <th>BOROUGH</th>\n",
       "      <th>Job Type</th>\n",
       "      <th>Residential</th>\n",
       "      <th>Permit Status</th>\n",
       "      <th>Issuance Date</th>\n",
       "      <th>NTA_NAME</th>\n",
       "      <th>Year</th>\n",
       "      <th>quarter</th>\n",
       "    </tr>\n",
       "  </thead>\n",
       "  <tbody>\n",
       "    <tr>\n",
       "      <th>197</th>\n",
       "      <td>BROOKLYN</td>\n",
       "      <td>NB</td>\n",
       "      <td>YES</td>\n",
       "      <td>ISSUED</td>\n",
       "      <td>2025-03-31</td>\n",
       "      <td>North Side-South Side</td>\n",
       "      <td>2025.0</td>\n",
       "      <td>1.0</td>\n",
       "    </tr>\n",
       "    <tr>\n",
       "      <th>198</th>\n",
       "      <td>BROOKLYN</td>\n",
       "      <td>NB</td>\n",
       "      <td>YES</td>\n",
       "      <td>ISSUED</td>\n",
       "      <td>2025-03-31</td>\n",
       "      <td>Sheepshead Bay-Gerritsen Beach-Manhattan Beach</td>\n",
       "      <td>2025.0</td>\n",
       "      <td>1.0</td>\n",
       "    </tr>\n",
       "    <tr>\n",
       "      <th>199</th>\n",
       "      <td>BROOKLYN</td>\n",
       "      <td>NB</td>\n",
       "      <td>YES</td>\n",
       "      <td>ISSUED</td>\n",
       "      <td>2025-03-31</td>\n",
       "      <td>Bedford</td>\n",
       "      <td>2025.0</td>\n",
       "      <td>1.0</td>\n",
       "    </tr>\n",
       "    <tr>\n",
       "      <th>200</th>\n",
       "      <td>BROOKLYN</td>\n",
       "      <td>NB</td>\n",
       "      <td>YES</td>\n",
       "      <td>ISSUED</td>\n",
       "      <td>2025-03-31</td>\n",
       "      <td>Bedford</td>\n",
       "      <td>2025.0</td>\n",
       "      <td>1.0</td>\n",
       "    </tr>\n",
       "    <tr>\n",
       "      <th>201</th>\n",
       "      <td>QUEENS</td>\n",
       "      <td>NB</td>\n",
       "      <td>YES</td>\n",
       "      <td>ISSUED</td>\n",
       "      <td>2025-03-31</td>\n",
       "      <td>Elmhurst-Maspeth</td>\n",
       "      <td>2025.0</td>\n",
       "      <td>1.0</td>\n",
       "    </tr>\n",
       "  </tbody>\n",
       "</table>\n",
       "</div>"
      ],
      "text/plain": [
       "      BOROUGH Job Type Residential Permit Status Issuance Date  \\\n",
       "197  BROOKLYN       NB         YES        ISSUED    2025-03-31   \n",
       "198  BROOKLYN       NB         YES        ISSUED    2025-03-31   \n",
       "199  BROOKLYN       NB         YES        ISSUED    2025-03-31   \n",
       "200  BROOKLYN       NB         YES        ISSUED    2025-03-31   \n",
       "201    QUEENS       NB         YES        ISSUED    2025-03-31   \n",
       "\n",
       "                                           NTA_NAME    Year  quarter  \n",
       "197                           North Side-South Side  2025.0      1.0  \n",
       "198  Sheepshead Bay-Gerritsen Beach-Manhattan Beach  2025.0      1.0  \n",
       "199                                         Bedford  2025.0      1.0  \n",
       "200                                         Bedford  2025.0      1.0  \n",
       "201                                Elmhurst-Maspeth  2025.0      1.0  "
      ]
     },
     "execution_count": 10,
     "metadata": {},
     "output_type": "execute_result"
    }
   ],
   "source": [
    "q1_permits.head()"
   ]
  },
  {
   "cell_type": "code",
   "execution_count": 11,
   "id": "892ad905-80e8-47a9-99ed-dbf9658489ec",
   "metadata": {},
   "outputs": [
    {
     "data": {
      "text/plain": [
       "Year\n",
       "2023.0    1292\n",
       "2024.0     767\n",
       "2025.0     581\n",
       "Name: count, dtype: int64"
      ]
     },
     "execution_count": 11,
     "metadata": {},
     "output_type": "execute_result"
    }
   ],
   "source": [
    "## count 1st quarter permits by year\n",
    "q1_permits['Year'].value_counts()"
   ]
  },
  {
   "cell_type": "markdown",
   "id": "1f8af82c-0343-4819-8450-9db734c3caea",
   "metadata": {},
   "source": [
    "# I'm doing some further analysis. I'm not sure if I will have time to build charts or add it to my story. I wanted to give this a try, though.\n",
    "- First, I want to get to the boroughs' count for Q! 2025"
   ]
  },
  {
   "cell_type": "code",
   "execution_count": 12,
   "id": "e39d7204-cd1b-479b-b72d-647c9120fbe2",
   "metadata": {},
   "outputs": [],
   "source": [
    "## Convert to datetime\n",
    "df['Filing Date'] = pd.to_datetime(df['Issuance Date'])"
   ]
  },
  {
   "cell_type": "code",
   "execution_count": 13,
   "id": "066b99d1-fd4e-4491-a02a-e9695cfd7d45",
   "metadata": {},
   "outputs": [],
   "source": [
    "## Filter for Q1 2025\n",
    "\n",
    "q1_2025 = df[(df['Filing Date'].dt.year == 2025) & (df['Filing Date'].dt.quarter == 1)]"
   ]
  },
  {
   "cell_type": "code",
   "execution_count": 14,
   "id": "66f735bc-4381-434d-acfe-42fdf8703c3d",
   "metadata": {},
   "outputs": [],
   "source": [
    "## Count permits per borough\n",
    "\n",
    "borough_counts_2025 = q1_2025['BOROUGH'].value_counts()"
   ]
  },
  {
   "cell_type": "code",
   "execution_count": 15,
   "id": "08e6e5d3-1e5b-4047-97c8-d896c1c07221",
   "metadata": {},
   "outputs": [],
   "source": [
    "## Display the borough with the most permits\n",
    "\n",
    "top_borough_2025 = borough_counts_2025.idxmax()\n",
    "most_permits_2025 = borough_counts_2025.max()"
   ]
  },
  {
   "cell_type": "code",
   "execution_count": 16,
   "id": "81d3e5cf-0515-456d-9c6e-75d92e38fcb3",
   "metadata": {},
   "outputs": [
    {
     "name": "stdout",
     "output_type": "stream",
     "text": [
      "The borough with the most permits in Q1 2025 is BROOKLYN with 237 permits.\n"
     ]
    }
   ],
   "source": [
    "## write in sentence form which borough had the most permits issued during Q1 2025\n",
    "\n",
    "print(f\"The borough with the most permits in Q1 2025 is {top_borough_2025} with {most_permits_2025} permits.\")"
   ]
  },
  {
   "cell_type": "code",
   "execution_count": 18,
   "id": "804eef73-f049-4aff-880f-01acdc9a8a03",
   "metadata": {},
   "outputs": [
    {
     "name": "stdout",
     "output_type": "stream",
     "text": [
      "Permit counts by borough in Q1 2025:\n",
      " - BROOKLYN: 237\n",
      " - QUEENS: 152\n",
      " - BRONX: 92\n",
      " - STATEN ISLAND: 57\n",
      " - MANHATTAN: 43\n"
     ]
    }
   ],
   "source": [
    "## Show total count of permits for each borough Q! 2025\n",
    "print(\"Permit counts by borough in Q1 2025:\")\n",
    "for borough, count in borough_counts_2025.items():\n",
    "    print(f\" - {borough}: {count}\")"
   ]
  },
  {
   "cell_type": "markdown",
   "id": "caef1435-fa4d-4bd5-ade5-313d3fb4f358",
   "metadata": {},
   "source": [
    "# I wanted these results to look like a markdown\n"
   ]
  },
  {
   "cell_type": "code",
   "execution_count": 19,
   "id": "b0ab1ba6-3aef-4cde-99c0-e83e3449ccd9",
   "metadata": {},
   "outputs": [],
   "source": [
    "## Converting the Series to a DataFrame\n",
    "borough_df_2025 = borough_counts_2025.reset_index()\n"
   ]
  },
  {
   "cell_type": "code",
   "execution_count": 20,
   "id": "17aa2cc4-da4d-443d-a278-864e6d815125",
   "metadata": {},
   "outputs": [],
   "source": [
    "## Renaming the columns for clarity\n",
    "borough_df_2025.columns = ['Borough', 'Permit Count']\n"
   ]
  },
  {
   "cell_type": "code",
   "execution_count": 21,
   "id": "9f0678c3-a0cc-40aa-83e3-5d448237fc28",
   "metadata": {},
   "outputs": [
    {
     "data": {
      "text/html": [
       "<div>\n",
       "<style scoped>\n",
       "    .dataframe tbody tr th:only-of-type {\n",
       "        vertical-align: middle;\n",
       "    }\n",
       "\n",
       "    .dataframe tbody tr th {\n",
       "        vertical-align: top;\n",
       "    }\n",
       "\n",
       "    .dataframe thead th {\n",
       "        text-align: right;\n",
       "    }\n",
       "</style>\n",
       "<table border=\"1\" class=\"dataframe\">\n",
       "  <thead>\n",
       "    <tr style=\"text-align: right;\">\n",
       "      <th></th>\n",
       "      <th>Borough</th>\n",
       "      <th>Permit Count</th>\n",
       "    </tr>\n",
       "  </thead>\n",
       "  <tbody>\n",
       "    <tr>\n",
       "      <th>0</th>\n",
       "      <td>BROOKLYN</td>\n",
       "      <td>237</td>\n",
       "    </tr>\n",
       "    <tr>\n",
       "      <th>1</th>\n",
       "      <td>QUEENS</td>\n",
       "      <td>152</td>\n",
       "    </tr>\n",
       "    <tr>\n",
       "      <th>2</th>\n",
       "      <td>BRONX</td>\n",
       "      <td>92</td>\n",
       "    </tr>\n",
       "    <tr>\n",
       "      <th>3</th>\n",
       "      <td>STATEN ISLAND</td>\n",
       "      <td>57</td>\n",
       "    </tr>\n",
       "    <tr>\n",
       "      <th>4</th>\n",
       "      <td>MANHATTAN</td>\n",
       "      <td>43</td>\n",
       "    </tr>\n",
       "  </tbody>\n",
       "</table>\n",
       "</div>"
      ],
      "text/plain": [
       "         Borough  Permit Count\n",
       "0       BROOKLYN           237\n",
       "1         QUEENS           152\n",
       "2          BRONX            92\n",
       "3  STATEN ISLAND            57\n",
       "4      MANHATTAN            43"
      ]
     },
     "execution_count": 21,
     "metadata": {},
     "output_type": "execute_result"
    }
   ],
   "source": [
    "## Display\n",
    "borough_df_2025.head()"
   ]
  },
  {
   "cell_type": "markdown",
   "id": "8f575838-2d00-4738-a8da-1a7b9220ea1b",
   "metadata": {},
   "source": [
    "# AWESOME! Now let's figure out how to compare the boroughs Q1 year over year"
   ]
  },
  {
   "cell_type": "code",
   "execution_count": 22,
   "id": "a548acf8-632b-4064-8dc9-266b672fba83",
   "metadata": {},
   "outputs": [],
   "source": [
    "## Filtering the Q1 data for all four years\n",
    "q1_all_years = df[\n",
    "    (df['Filing Date'].dt.quarter == 1) &\n",
    "    (df['Filing Date'].dt.year.isin([2022, 2023, 2024, 2025]))\n",
    "]"
   ]
  },
  {
   "cell_type": "code",
   "execution_count": 23,
   "id": "aea9972a-5772-40c6-bc7b-c0e0b3a3da7b",
   "metadata": {},
   "outputs": [
    {
     "data": {
      "text/html": [
       "<div>\n",
       "<style scoped>\n",
       "    .dataframe tbody tr th:only-of-type {\n",
       "        vertical-align: middle;\n",
       "    }\n",
       "\n",
       "    .dataframe tbody tr th {\n",
       "        vertical-align: top;\n",
       "    }\n",
       "\n",
       "    .dataframe thead th {\n",
       "        text-align: right;\n",
       "    }\n",
       "</style>\n",
       "<table border=\"1\" class=\"dataframe\">\n",
       "  <thead>\n",
       "    <tr style=\"text-align: right;\">\n",
       "      <th></th>\n",
       "      <th>BOROUGH</th>\n",
       "      <th>Job Type</th>\n",
       "      <th>Residential</th>\n",
       "      <th>Permit Status</th>\n",
       "      <th>Issuance Date</th>\n",
       "      <th>NTA_NAME</th>\n",
       "      <th>Year</th>\n",
       "      <th>quarter</th>\n",
       "      <th>Filing Date</th>\n",
       "    </tr>\n",
       "  </thead>\n",
       "  <tbody>\n",
       "    <tr>\n",
       "      <th>197</th>\n",
       "      <td>BROOKLYN</td>\n",
       "      <td>NB</td>\n",
       "      <td>YES</td>\n",
       "      <td>ISSUED</td>\n",
       "      <td>2025-03-31</td>\n",
       "      <td>North Side-South Side</td>\n",
       "      <td>2025.0</td>\n",
       "      <td>1.0</td>\n",
       "      <td>2025-03-31</td>\n",
       "    </tr>\n",
       "    <tr>\n",
       "      <th>198</th>\n",
       "      <td>BROOKLYN</td>\n",
       "      <td>NB</td>\n",
       "      <td>YES</td>\n",
       "      <td>ISSUED</td>\n",
       "      <td>2025-03-31</td>\n",
       "      <td>Sheepshead Bay-Gerritsen Beach-Manhattan Beach</td>\n",
       "      <td>2025.0</td>\n",
       "      <td>1.0</td>\n",
       "      <td>2025-03-31</td>\n",
       "    </tr>\n",
       "    <tr>\n",
       "      <th>199</th>\n",
       "      <td>BROOKLYN</td>\n",
       "      <td>NB</td>\n",
       "      <td>YES</td>\n",
       "      <td>ISSUED</td>\n",
       "      <td>2025-03-31</td>\n",
       "      <td>Bedford</td>\n",
       "      <td>2025.0</td>\n",
       "      <td>1.0</td>\n",
       "      <td>2025-03-31</td>\n",
       "    </tr>\n",
       "    <tr>\n",
       "      <th>200</th>\n",
       "      <td>BROOKLYN</td>\n",
       "      <td>NB</td>\n",
       "      <td>YES</td>\n",
       "      <td>ISSUED</td>\n",
       "      <td>2025-03-31</td>\n",
       "      <td>Bedford</td>\n",
       "      <td>2025.0</td>\n",
       "      <td>1.0</td>\n",
       "      <td>2025-03-31</td>\n",
       "    </tr>\n",
       "    <tr>\n",
       "      <th>201</th>\n",
       "      <td>QUEENS</td>\n",
       "      <td>NB</td>\n",
       "      <td>YES</td>\n",
       "      <td>ISSUED</td>\n",
       "      <td>2025-03-31</td>\n",
       "      <td>Elmhurst-Maspeth</td>\n",
       "      <td>2025.0</td>\n",
       "      <td>1.0</td>\n",
       "      <td>2025-03-31</td>\n",
       "    </tr>\n",
       "  </tbody>\n",
       "</table>\n",
       "</div>"
      ],
      "text/plain": [
       "      BOROUGH Job Type Residential Permit Status Issuance Date  \\\n",
       "197  BROOKLYN       NB         YES        ISSUED    2025-03-31   \n",
       "198  BROOKLYN       NB         YES        ISSUED    2025-03-31   \n",
       "199  BROOKLYN       NB         YES        ISSUED    2025-03-31   \n",
       "200  BROOKLYN       NB         YES        ISSUED    2025-03-31   \n",
       "201    QUEENS       NB         YES        ISSUED    2025-03-31   \n",
       "\n",
       "                                           NTA_NAME    Year  quarter  \\\n",
       "197                           North Side-South Side  2025.0      1.0   \n",
       "198  Sheepshead Bay-Gerritsen Beach-Manhattan Beach  2025.0      1.0   \n",
       "199                                         Bedford  2025.0      1.0   \n",
       "200                                         Bedford  2025.0      1.0   \n",
       "201                                Elmhurst-Maspeth  2025.0      1.0   \n",
       "\n",
       "    Filing Date  \n",
       "197  2025-03-31  \n",
       "198  2025-03-31  \n",
       "199  2025-03-31  \n",
       "200  2025-03-31  \n",
       "201  2025-03-31  "
      ]
     },
     "execution_count": 23,
     "metadata": {},
     "output_type": "execute_result"
    }
   ],
   "source": [
    "q1_all_years.head()"
   ]
  },
  {
   "cell_type": "code",
   "execution_count": 26,
   "id": "74164902-53cd-43d6-91d7-3ed0238fa749",
   "metadata": {},
   "outputs": [],
   "source": [
    "## Group the results by the Year and Borough and count permits\n",
    "permit_counts = q1_all_years.groupby(['Year', 'BOROUGH']).size().unstack().fillna(0).astype(int)"
   ]
  },
  {
   "cell_type": "code",
   "execution_count": 27,
   "id": "616b9a21-71fa-4fa3-8d0b-83ee04ee183e",
   "metadata": {},
   "outputs": [
    {
     "data": {
      "text/html": [
       "<div>\n",
       "<style scoped>\n",
       "    .dataframe tbody tr th:only-of-type {\n",
       "        vertical-align: middle;\n",
       "    }\n",
       "\n",
       "    .dataframe tbody tr th {\n",
       "        vertical-align: top;\n",
       "    }\n",
       "\n",
       "    .dataframe thead th {\n",
       "        text-align: right;\n",
       "    }\n",
       "</style>\n",
       "<table border=\"1\" class=\"dataframe\">\n",
       "  <thead>\n",
       "    <tr style=\"text-align: right;\">\n",
       "      <th>BOROUGH</th>\n",
       "      <th>BRONX</th>\n",
       "      <th>BROOKLYN</th>\n",
       "      <th>MANHATTAN</th>\n",
       "      <th>QUEENS</th>\n",
       "      <th>STATEN ISLAND</th>\n",
       "    </tr>\n",
       "    <tr>\n",
       "      <th>Year</th>\n",
       "      <th></th>\n",
       "      <th></th>\n",
       "      <th></th>\n",
       "      <th></th>\n",
       "      <th></th>\n",
       "    </tr>\n",
       "  </thead>\n",
       "  <tbody>\n",
       "    <tr>\n",
       "      <th>2023</th>\n",
       "      <td>180</td>\n",
       "      <td>515</td>\n",
       "      <td>122</td>\n",
       "      <td>351</td>\n",
       "      <td>124</td>\n",
       "    </tr>\n",
       "    <tr>\n",
       "      <th>2024</th>\n",
       "      <td>117</td>\n",
       "      <td>275</td>\n",
       "      <td>81</td>\n",
       "      <td>200</td>\n",
       "      <td>94</td>\n",
       "    </tr>\n",
       "    <tr>\n",
       "      <th>2025</th>\n",
       "      <td>92</td>\n",
       "      <td>237</td>\n",
       "      <td>43</td>\n",
       "      <td>152</td>\n",
       "      <td>57</td>\n",
       "    </tr>\n",
       "  </tbody>\n",
       "</table>\n",
       "</div>"
      ],
      "text/plain": [
       "BOROUGH  BRONX  BROOKLYN  MANHATTAN  QUEENS  STATEN ISLAND\n",
       "Year                                                      \n",
       "2023       180       515        122     351            124\n",
       "2024       117       275         81     200             94\n",
       "2025        92       237         43     152             57"
      ]
     },
     "execution_count": 27,
     "metadata": {},
     "output_type": "execute_result"
    }
   ],
   "source": [
    "## pring permit counts\n",
    "permit_counts.head()"
   ]
  },
  {
   "cell_type": "code",
   "execution_count": 28,
   "id": "59ab2255-b541-418f-bf78-3c9062766736",
   "metadata": {},
   "outputs": [
    {
     "name": "stdout",
     "output_type": "stream",
     "text": [
      "[2025. 2024. 2023.   nan]\n"
     ]
    }
   ],
   "source": [
    "## 2022 is missing, so I ran this to see if 2022 is in the data\n",
    "print(df['Filing Date'].dt.year.unique())\n"
   ]
  },
  {
   "cell_type": "markdown",
   "id": "e70e35d4-7bc5-4e53-bdbb-e0a6555cbb19",
   "metadata": {},
   "source": [
    "# Something is wrong. I got this far and realized that 2022 data isn't there. I'll try to correct for it.\n"
   ]
  },
  {
   "cell_type": "code",
   "execution_count": 29,
   "id": "544ec7ec-eb7d-4301-a425-168acd708d4c",
   "metadata": {},
   "outputs": [],
   "source": [
    "## Reloading the CSV\n",
    "df = pd.read_csv(\"NewBuildingPermits_QueriedDOBData - DOBPermitsData.csv\")"
   ]
  },
  {
   "cell_type": "code",
   "execution_count": 31,
   "id": "54f661e5-1ff1-4499-a709-9b407ae67b9f",
   "metadata": {},
   "outputs": [
    {
     "name": "stdout",
     "output_type": "stream",
     "text": [
      "0    05/09/2025\n",
      "1    05/09/2025\n",
      "2    05/09/2025\n",
      "3    05/09/2025\n",
      "4    05/09/2025\n",
      "Name: Issuance Date, dtype: object\n"
     ]
    }
   ],
   "source": [
    "## take a look at it\n",
    "print(df['Issuance Date'].head())"
   ]
  },
  {
   "cell_type": "code",
   "execution_count": 33,
   "id": "d6af5731-61c0-46e8-8aac-1cc36b0595a4",
   "metadata": {},
   "outputs": [],
   "source": [
    "## I found this code that supposedly assures proper datetime conversion\n",
    "\n",
    "df['Filing Date'] = pd.to_datetime(df['Issuance Date'], errors='coerce')"
   ]
  },
  {
   "cell_type": "code",
   "execution_count": 35,
   "id": "466fdb4a-325f-4768-9c5d-252b07a26133",
   "metadata": {},
   "outputs": [],
   "source": [
    "## converting date column from an object to datetime\n",
    "df['Issuance Date'] = pd.to_datetime(df['Issuance Date'])"
   ]
  },
  {
   "cell_type": "code",
   "execution_count": 36,
   "id": "29a369f4-78b4-43b8-8d1f-2c4bb09cd934",
   "metadata": {},
   "outputs": [
    {
     "name": "stdout",
     "output_type": "stream",
     "text": [
      "Years in data: [2025. 2024. 2023.]\n"
     ]
    }
   ],
   "source": [
    "## Checking for all of the years \n",
    "print(\"Years in data:\", df['Issuance Date'].dt.year.dropna().unique())"
   ]
  },
  {
   "cell_type": "markdown",
   "id": "619da961-ac98-4085-b41c-437b3c74b634",
   "metadata": {},
   "source": [
    "# There's the explanation. For whatever reason, when I downloaded the data from the Google sheet I initially worked in, for some reason, the 2022 data was missing.\n",
    "_ I figured out what I did. As I was filtering, I accidentally left out 2022\n",
    "- Because I am running short on time, I am not going to start the entire process over. from this point on, I will do the comparative analysis from Q1 of 2023, 2024 and 2025\n",
    "- A reminder, you can find the Google Sheet here: https://docs.google.com/spreadsheets/d/181r2cKvyfTSnSkNEjgTCldFAaiQujucuF5sNp9f6f5I/edit?usp=sharing"
   ]
  },
  {
   "cell_type": "markdown",
   "id": "bcf210dc-1d11-400c-ab79-f8b6c6d30c7a",
   "metadata": {},
   "source": [
    "# I am adding a few lines to the story text based on the additional data analysis showing that Brooklyn led the five broughs for new developments Q1 3 years in a row"
   ]
  },
  {
   "cell_type": "code",
   "execution_count": null,
   "id": "4347c2ea-cb04-44fd-ac91-b412933d961f",
   "metadata": {},
   "outputs": [],
   "source": []
  }
 ],
 "metadata": {
  "kernelspec": {
   "display_name": "Python 3 (ipykernel)",
   "language": "python",
   "name": "python3"
  },
  "language_info": {
   "codemirror_mode": {
    "name": "ipython",
    "version": 3
   },
   "file_extension": ".py",
   "mimetype": "text/x-python",
   "name": "python",
   "nbconvert_exporter": "python",
   "pygments_lexer": "ipython3",
   "version": "3.12.7"
  }
 },
 "nbformat": 4,
 "nbformat_minor": 5
}
